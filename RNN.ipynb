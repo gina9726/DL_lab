{
 "cells": [
  {
   "cell_type": "code",
   "execution_count": 1,
   "metadata": {},
   "outputs": [],
   "source": [
    "# Automatically reload changes to external code\n",
    "%load_ext autoreload\n",
    "%autoreload 2\n",
    "\n"
   ]
  },
  {
   "cell_type": "code",
   "execution_count": 2,
   "metadata": {},
   "outputs": [],
   "source": [
    "import tensorflow as tf\n",
    "from mnist import loader #loader for mnist dataset\n",
    "from matplotlib import pyplot as plt\n",
    "from tensorflow.python.ops import rnn\n",
    "import numpy as np\n",
    "import pdb, time"
   ]
  },
  {
   "cell_type": "markdown",
   "metadata": {},
   "source": [
    "# Mnist dataset\n",
    "\n",
    "The MNIST database of handwritten digits. [[website]](http://yann.lecun.com/exdb/mnist/)<br>\n",
    "There are **60,000** training images and **10,000** testing images in this dataset.<br>\n",
    "Each digit is a one-channel image. Size of image = 28*28 = 784.\n",
    "\n",
    "![](imgs/mnist_ex.png)\n",
    "\n",
    "There are some build-in mnist function can be used in tensorflow.\n",
    "\n",
    "Ex.<br>\n",
    "from tensorflow.examples.tutorials.mnist import input_data<br>\n",
    "mnist = input_data.read_data_sets(\"/tmp/data/\", one_hot=True)\n",
    "\n",
    "Instead of using these functions, I'll use the orginal dataset manually in this code.<br>\n",
    "It's more clear to trace the data-processing.\n",
    "\n",
    "When we load the data\n"
   ]
  },
  {
   "cell_type": "code",
   "execution_count": 3,
   "metadata": {
    "collapsed": true
   },
   "outputs": [],
   "source": [
    "# load mnist data manually\n",
    "# loading 'train' or 'test' data\n",
    "# ex. load_mnist_data('train')\n",
    "# return images, labels and mean of all images. (But, we'll only use the mean of training data.)\n",
    "# ims: [N * 784]\n",
    "# labels: [N]\n",
    "# ims_mean: [784]\n",
    "\n",
    "def load_mnist_data(flag, data_path='data'):\n",
    "    data_loader = loader.MNIST(data_path)\n",
    "    if flag == 'train':\n",
    "        ims, labels = data_loader.load_training()\n",
    "    elif flag == 'test':\n",
    "        ims, labels = data_loader.load_testing()\n",
    "    else:\n",
    "        raise ValueError(\"Error. Only training or testing data.\")\n",
    "    ims = ims/255.0\n",
    "    ims_mean = np.mean(ims, axis=0)\n",
    "    ims = np.reshape(ims, [len(ims),28,28])\n",
    "    ims_mean = np.reshape(ims_mean,(28,28))\n",
    "    return ims, labels, ims_mean"
   ]
  },
  {
   "cell_type": "code",
   "execution_count": 4,
   "metadata": {
    "collapsed": true
   },
   "outputs": [],
   "source": [
    "# Parameters\n",
    "learning_rate = 0.01\n",
    "training_epochs = 1\n",
    "batch_size = 100   # training batch size\n",
    "test_batch_size = 100\n",
    "display_step = 50  # testing \n",
    "\n",
    "# Network Parameters\n",
    "n_input = 28 # MNIST data input (img shape: 28*28)\n",
    "n_steps = 28 # timesteps\n",
    "n_hidden = 128 # hidden layer num of features\n",
    "n_classes = 10 # MNIST total classes (0-9 digits)\n",
    "stddev=0.01    # standard deviation for random initialization"
   ]
  },
  {
   "cell_type": "markdown",
   "metadata": {},
   "source": [
    "# Functions of Recurrent Neural Network"
   ]
  },
  {
   "cell_type": "code",
   "execution_count": 31,
   "metadata": {
    "collapsed": true
   },
   "outputs": [],
   "source": [
    "def RNN():\n",
    "    rnn_cell = tf.nn.rnn_cell\n",
    "    # tf Graph input\n",
    "    x = tf.placeholder(\"float\", [None, n_steps, n_input])  # mnist input images, [batch_size x 28 x 28]\n",
    "    y = tf.placeholder(tf.int32,[None])              # label, [batch_size]\n",
    "    # Declare Variables \n",
    "    # Store layers weight & bias\n",
    "    weights = {\n",
    "        'out': tf.Variable(tf.random_normal([n_hidden, n_classes]))\n",
    "    }\n",
    "    biases = {\n",
    "        'out': tf.Variable(tf.random_normal([n_classes]))\n",
    "    }\n",
    "\n",
    "    # Define a lstm cell with tensorflow\n",
    "    lstm_cell = rnn_cell.BasicLSTMCell(n_hidden, forget_bias=1.0)\n",
    "    # Initial zero state\n",
    "    state = lstm_cell.zero_state(batch_size, tf.float32)\n",
    "    for i in range(n_steps):\n",
    "        # Get lstm cell output\n",
    "        with tf.variable_scope('lstm', reuse=True if i > 0 else None):\n",
    "            output, state = lstm_cell(x[:,i,:], state)\n",
    "    \n",
    "    pred = tf.matmul(output, weights['out']) + biases['out']\n",
    "\n",
    "    probs = tf.nn.softmax(pred)\n",
    "    log_probs = tf.log(probs + 1e-8)\n",
    "\n",
    "    one_hot_y = tf.one_hot(y, n_classes, on_value=1, off_value=0, axis=-1)\n",
    "    #print one_hot_y.get_shape()\n",
    "    #cross_entropy_loss = - tf.mul(y,log_probs)\n",
    "    cross_entropy_loss = - tf.multiply(tf.cast(one_hot_y, tf.float32),log_probs)\n",
    "    \n",
    "    loss = tf.reduce_sum(cross_entropy_loss)\n",
    "    \n",
    "\n",
    "\n",
    "    return x, y, loss, pred, one_hot_y\n"
   ]
  },
  {
   "cell_type": "code",
   "execution_count": 27,
   "metadata": {
    "collapsed": true
   },
   "outputs": [],
   "source": [
    "def eval_model(sess, x, y, ims, labels, ims_test, labels_test, ims_mean, iter_per_epoch, test_iter):\n",
    "    Train_Loss = 0\n",
    "    Test_Loss = 0\n",
    "    Train_Acc = 0\n",
    "    Test_Acc = 0\n",
    "    for idx in xrange(iter_per_epoch):\n",
    "        batch_xs = ims[order_list[idx*batch_size:(idx+1)*batch_size]] - ims_mean\n",
    "        batch_ys = labels[order_list[idx*batch_size:(idx+1)*batch_size]]\n",
    "        C, A = sess.run([cost, accuracy], feed_dict={x: batch_xs, y: batch_ys})\n",
    "        Train_Loss += C/batch_size   # calculate the loss in average (per image).\n",
    "        Train_Acc += A\n",
    "    # Eval testing dataset\n",
    "    for idx in xrange(test_iter):\n",
    "        batch_xs = ims_test[order_list[idx*test_batch_size:(idx+1)*test_batch_size]] - ims_mean\n",
    "        batch_ys = labels_test[order_list[idx*test_batch_size:(idx+1)*test_batch_size]]\n",
    "        C, A = sess.run([cost, accuracy], feed_dict={x: batch_xs, y: batch_ys})\n",
    "        Test_Loss += C/test_batch_size\n",
    "        Test_Acc += A\n",
    "    return Train_Loss, Train_Acc, Test_Loss, Test_Acc"
   ]
  },
  {
   "cell_type": "markdown",
   "metadata": {},
   "source": [
    "# Main function\n",
    "\n"
   ]
  },
  {
   "cell_type": "code",
   "execution_count": 32,
   "metadata": {},
   "outputs": [
    {
     "name": "stdout",
     "output_type": "stream",
     "text": [
      "WARNING:tensorflow:From /home/planck/anaconda2/lib/python2.7/site-packages/tensorflow/python/util/tf_should_use.py:170: initialize_all_variables (from tensorflow.python.ops.variables) is deprecated and will be removed after 2017-03-02.\n",
      "Instructions for updating:\n",
      "Use `tf.global_variables_initializer` instead.\n",
      "------After Random Initialization------\n",
      "Training: loss=2.548789, acc=0.157283.\t\tTesting: loss=2.536077, acc=0.162200\n",
      " 6.732644 seconds\n",
      "------Start Training------\n",
      "Epoch 0.000000, Training: loss=2.276403, acc=0.294050.\t\tTesting: loss=2.274047, acc=0.297300\n",
      "Epoch 0.083333, Training: loss=0.542239, acc=0.828167.\t\tTesting: loss=0.527062, acc=0.836800\n",
      "Epoch 0.166667, Training: loss=0.339373, acc=0.894167.\t\tTesting: loss=0.338311, acc=0.893000\n",
      "Epoch 0.250000, Training: loss=0.254496, acc=0.922950.\t\tTesting: loss=0.247378, acc=0.924100\n",
      "Epoch 0.333333, Training: loss=0.200234, acc=0.937950.\t\tTesting: loss=0.186873, acc=0.940900\n",
      "Epoch 0.416667, Training: loss=0.154682, acc=0.952333.\t\tTesting: loss=0.154590, acc=0.950500\n",
      "Epoch 0.500000, Training: loss=0.191085, acc=0.943417.\t\tTesting: loss=0.189160, acc=0.940500\n",
      "Epoch 0.583333, Training: loss=0.124252, acc=0.962167.\t\tTesting: loss=0.129015, acc=0.959200\n",
      "Epoch 0.666667, Training: loss=0.149596, acc=0.954783.\t\tTesting: loss=0.151029, acc=0.953600\n",
      "Epoch 0.750000, Training: loss=0.104820, acc=0.968783.\t\tTesting: loss=0.103120, acc=0.967800\n",
      "Epoch 0.833333, Training: loss=0.093503, acc=0.970950.\t\tTesting: loss=0.095178, acc=0.969500\n",
      "Epoch 0.916667, Training: loss=0.099272, acc=0.969367.\t\tTesting: loss=0.112114, acc=0.965500\n",
      "Epoch 1, Training: loss=0.097577, acc=0.970250.\t\tTesting: loss=0.101059, acc=0.969300\n",
      "Cost 104.175459 seconds\n",
      "Optimization Finished!\n"
     ]
    },
    {
     "data": {
      "image/png": "[encoded data removed]",
      "text/plain": [
       "<matplotlib.figure.Figure at 0x7f5c3f60ff50>"
      ]
     },
     "metadata": {},
     "output_type": "display_data"
    }
   ],
   "source": [
    "# loading training and testing data\n",
    "ims, labels, ims_mean = load_mnist_data('train', data_path='MNIST_data')\n",
    "#ims_mean = np.zeros((28*28))\n",
    "ims_test, labels_test, _ = load_mnist_data('test', data_path='MNIST_data')\n",
    "\n",
    "order_list = range(len(ims))\n",
    "\n",
    "# parameters related to mnist dataset \n",
    "test_iter = len(ims_test)/test_batch_size # number of testing-minibatch.\n",
    "\n",
    "iter_per_epoch = len(ims)/batch_size      # number of training-minibatch.\n",
    "\n",
    "# Launch the graph\n",
    "with tf.Session() as sess:\n",
    "\n",
    "    # Keep training until reach max iterations\n",
    "    x, y, cost, pred, one_hot_y = RNN()\n",
    "    train_loss = cost/batch_size # loss per image\n",
    "    optimizer = tf.train.AdamOptimizer(learning_rate=learning_rate).minimize(train_loss)\n",
    "\n",
    "\n",
    "    # Evaluate model\n",
    "    correct_pred = tf.equal(tf.argmax(pred, 1), tf.argmax(one_hot_y, 1))\n",
    "    accuracy = tf.reduce_mean(tf.cast(correct_pred, tf.float32))\n",
    "\n",
    "\n",
    "    # initialize all variables\n",
    "    try:\n",
    "        init = tf.initialize_all_variables()\n",
    "    except:\n",
    "        init = tf.global_variables_initializer()\n",
    "    sess.run(init)\n",
    "    Loss_plt = {'x':[], 'train_y':[], 'test_y':[]}\n",
    "    Acc_plt  = {'x':[], 'train_y':[], 'test_y':[]} \n",
    "    # Before Training (Random initialization), Evaluate the model one-time.\n",
    "    begin = time.time()\n",
    "    Train_Loss, Train_Acc, Test_Loss, Test_Acc=eval_model(sess, x, y, ims, labels, ims_test, labels_test, ims_mean, iter_per_epoch, test_iter)\n",
    "    print \"------After Random Initialization------\"\n",
    "    print \"Training: loss=%f, acc=%f.\\t\\tTesting: loss=%f, acc=%f\" %(Train_Loss/iter_per_epoch, Train_Acc/iter_per_epoch,\n",
    "                                                                     Test_Loss/test_iter, Test_Acc/test_iter)\n",
    "    \n",
    "    epoch = 0\n",
    "    step = 0      \n",
    "    \n",
    "    Loss_plt['x'].append(float(step)/iter_per_epoch)\n",
    "    Loss_plt['train_y'].append(Train_Loss/iter_per_epoch)\n",
    "    Loss_plt['test_y'].append(Test_Loss/test_iter)\n",
    "    Acc_plt['x'].append(float(step)/iter_per_epoch)\n",
    "    Acc_plt['train_y'].append(Train_Acc/iter_per_epoch)\n",
    "    Acc_plt['test_y'].append(Test_Acc/test_iter)\n",
    "    \n",
    "    duration = time.time()-begin\n",
    "    print \" %f seconds\"%(duration)\n",
    "    \n",
    "    print \"------Start Training------\"\n",
    "\n",
    "    for epoch in xrange(training_epochs):\n",
    "        begin = time.time()\n",
    "        Train_Loss = 0\n",
    "        Test_Loss = 0\n",
    "        Train_Acc = 0\n",
    "        Test_Acc = 0\n",
    "        for idx in xrange(iter_per_epoch):\n",
    "            batch_xs = ims[order_list[idx*batch_size:(idx+1)*batch_size]] - ims_mean\n",
    "            batch_ys = labels[order_list[idx*batch_size:(idx+1)*batch_size]]\n",
    "            # Run optimization op (backprop)\n",
    "            sess.run([optimizer], feed_dict={x: batch_xs, y: batch_ys})\n",
    "            if step % display_step == 0:\n",
    "                Train_Loss, Train_Acc, Test_Loss, Test_Acc=eval_model(sess, x, y, ims, labels, ims_test, labels_test, ims_mean, iter_per_epoch, test_iter)\n",
    "                print \"Epoch %f, Training: loss=%f, acc=%f.\\t\\tTesting: loss=%f, acc=%f\"%(float(step)/iter_per_epoch, Train_Loss/iter_per_epoch, Train_Acc/iter_per_epoch, \n",
    "                                                                                         Test_Loss/test_iter, Test_Acc/test_iter)\n",
    "                Loss_plt['x'].append(float(step)/iter_per_epoch)\n",
    "                Loss_plt['train_y'].append(Train_Loss/iter_per_epoch)\n",
    "                Loss_plt['test_y'].append(Test_Loss/test_iter)\n",
    "                Acc_plt['x'].append(float(step)/iter_per_epoch)\n",
    "                Acc_plt['train_y'].append(Train_Acc/iter_per_epoch)\n",
    "                Acc_plt['test_y'].append(Test_Acc/test_iter)\n",
    "            step += 1\n",
    "        \n",
    "        # Evaluate after each epoch finished.\n",
    "        Train_Loss, Train_Acc, Test_Loss, Test_Acc=eval_model(sess, x, y, ims, labels, ims_test, labels_test, ims_mean, iter_per_epoch, test_iter)\n",
    "        print \"Epoch %d, Training: loss=%f, acc=%f.\\t\\tTesting: loss=%f, acc=%f\"%(epoch+1, Train_Loss/iter_per_epoch, Train_Acc/iter_per_epoch, \n",
    "                                                                                         Test_Loss/test_iter, Test_Acc/test_iter)\n",
    "        Loss_plt['x'].append(float(step)/iter_per_epoch)\n",
    "        Loss_plt['train_y'].append(Train_Loss/iter_per_epoch)\n",
    "        Loss_plt['test_y'].append(Test_Loss/test_iter)\n",
    "        Acc_plt['x'].append(float(step)/iter_per_epoch)\n",
    "        Acc_plt['train_y'].append(Train_Acc/iter_per_epoch)\n",
    "        Acc_plt['test_y'].append(Test_Acc/test_iter)\n",
    "        duration = time.time()-begin\n",
    "        print \"Cost %f seconds\"%(duration)\n",
    "    print(\"Optimization Finished!\")\n",
    "    plt.figure(1)\n",
    "    plt.subplot(211)\n",
    "    plt.title('Loss. Blue-training, Red-testing')\n",
    "    plt.xlabel('Epochs')\n",
    "    plt.axis([0, training_epochs, 0, 5.0])\n",
    "    plt.plot(Loss_plt['x'], Loss_plt['train_y'], 'b-',Loss_plt['x'], Loss_plt['test_y'], 'r-')\n",
    "    plt.subplot(212)\n",
    "    plt.title('Accuracy. Blue-training, Red-testing')\n",
    "    plt.xlabel('Epochs')\n",
    "    plt.ylabel('(%)')\n",
    "    plt.axis([0, training_epochs, 0, 1.0])\n",
    "    plt.plot(Acc_plt['x'], Acc_plt['train_y'], 'b-', Acc_plt['x'], Acc_plt['test_y'], 'r-')\n",
    "    plt.show()\n",
    " "
   ]
  },
  {
   "cell_type": "raw",
   "metadata": {},
   "source": [
    "# Possible Results\n",
    "------After Random Initialization------\n",
    "Training: loss=2.853943, acc=0.085467.\t\tTesting: loss=2.856901, acc=0.090800\n",
    " 8.238626 seconds\n",
    "------Start Training------\n",
    "Epoch 0.000000, Training: loss=2.386962, acc=0.267517.\t\tTesting: loss=2.363946, acc=0.267900\n",
    "Epoch 0.083333, Training: loss=0.475765, acc=0.853267.\t\tTesting: loss=0.464164, acc=0.860400\n",
    "Epoch 0.166667, Training: loss=0.344172, acc=0.894317.\t\tTesting: loss=0.349722, acc=0.893500\n",
    "Epoch 0.250000, Training: loss=0.251788, acc=0.922267.\t\tTesting: loss=0.239763, acc=0.924100\n",
    "Epoch 0.333333, Training: loss=0.185987, acc=0.942233.\t\tTesting: loss=0.187578, acc=0.941400\n",
    "Epoch 0.416667, Training: loss=0.142461, acc=0.955950.\t\tTesting: loss=0.142172, acc=0.956500\n",
    "Epoch 0.500000, Training: loss=0.135455, acc=0.958617.\t\tTesting: loss=0.137519, acc=0.956900\n",
    "Epoch 0.583333, Training: loss=0.118036, acc=0.964783.\t\tTesting: loss=0.125609, acc=0.960200\n",
    "Epoch 0.666667, Training: loss=0.135859, acc=0.961700.\t\tTesting: loss=0.146974, acc=0.956000\n",
    "Epoch 0.750000, Training: loss=0.112599, acc=0.966583.\t\tTesting: loss=0.119863, acc=0.963200\n",
    "Epoch 0.833333, Training: loss=0.127726, acc=0.960500.\t\tTesting: loss=0.133251, acc=0.959300\n",
    "Epoch 0.916667, Training: loss=0.098880, acc=0.969883.\t\tTesting: loss=0.105006, acc=0.968000\n",
    "Epoch 1, Training: loss=0.099234, acc=0.969933.\t\tTesting: loss=0.111800, acc=0.966600\n",
    "Cost 126.912962 seconds\n",
    "Optimization Finished!"
   ]
  },
  {
   "cell_type": "markdown",
   "metadata": {
    "collapsed": true
   },
   "source": []
  }
 ],
 "metadata": {
  "anaconda-cloud": {},
  "kernelspec": {
   "display_name": "Python 2",
   "language": "python",
   "name": "python2"
  },
  "language_info": {
   "codemirror_mode": {
    "name": "ipython",
    "version": 2
   },
   "file_extension": ".py",
   "mimetype": "text/x-python",
   "name": "python",
   "nbconvert_exporter": "python",
   "pygments_lexer": "ipython2",
   "version": "2.7.13"
  }
 },
 "nbformat": 4,
 "nbformat_minor": 2
}
